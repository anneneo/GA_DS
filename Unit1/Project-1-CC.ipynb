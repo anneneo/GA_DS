{
 "cells": [
  {
   "cell_type": "markdown",
   "metadata": {},
   "source": [
    "<img src=\"http://imgur.com/1ZcRyrc.png\" style=\"float: left; margin: 20px; height: 55px\">\n",
    "\n",
    "# Project 1: Python Coding Exercises\n",
    "\n",
    "_Authors: Joseph Nelson (DC) _\n",
    "\n",
    "---"
   ]
  },
  {
   "cell_type": "markdown",
   "metadata": {},
   "source": [
    "The following code challenges are drawn from common exercises used in technical interviews.\n",
    "\n",
    "Please note that there may be several ways to approach each challenge. If you get stuck, try mapping out your approach in pseudocode first. Finally, while solutions to problems like these may be found online, remember that if you copy/paste code that you can't explain, you'll be missing out on the point of the project. The only way to truly learn a new skill is through practice, trial, and error - we can only help you improve by understanding where you are having trouble."
   ]
  },
  {
   "cell_type": "markdown",
   "metadata": {},
   "source": [
    "### Challenge 1: Largest Palindrome\n",
    "A palindromic number reads the same both ways. For example, 1234321 is a palindrome. The largest palindrome made from the product of two two-digit numbers is 9009 = 91 × 99. Find the largest palindrome made from the product of two three-digit numbers. Afterward, write a brief explanation walking through your code's logic in markdown."
   ]
  },
  {
   "cell_type": "code",
   "execution_count": 18,
   "metadata": {},
   "outputs": [
    {
     "name": "stdout",
     "output_type": "stream",
     "text": [
      "The largest palindrome is 906609 and is the product of 993 and 913\n"
     ]
    }
   ],
   "source": [
    "#method to check if given number is palindrome\n",
    "def isPalindrome(num_check):\n",
    "    \n",
    "    #convert to string and find middle position\n",
    "    str_check = str(num_check)\n",
    "    len_str = len(str_check)\n",
    "    mid_pos = len_str // 2\n",
    "    \n",
    "    #check palindrome by checking characters from end points inwards\n",
    "    for x in range(mid_pos):\n",
    "        y = -x - 1\n",
    "        if str_check[x] != str_check[y]:\n",
    "            return False\n",
    "    \n",
    "    return True # returns True if all characters matches palindrome algorithm\n",
    "\n",
    "\n",
    "\n",
    "#3-digits numbers range from 100 to 999, so product ranges from 10,000 to 998,001\n",
    "for num_product in range(998001, 10000, -1):\n",
    "    loop_breaker = False\n",
    "    if isPalindrome(num_product):\n",
    "        for x in range(999,99,-1):\n",
    "            y = num_product // x\n",
    "            if (num_product % x == 0) & (y <= 999):\n",
    "                loop_breaker = True\n",
    "                break\n",
    "        if loop_breaker:\n",
    "            break\n",
    "            \n",
    "print(\"The largest palindrome is {} and is the product of {} and {}\".format(num_product, x, y))"
   ]
  },
  {
   "cell_type": "markdown",
   "metadata": {},
   "source": [
    "### Explanation of Palindrome Logic\n",
    "Function **isPalindrome** will return True if the number passed in is palindrome, returs False if otherwise.\n",
    "\n",
    "Logic of function:\n",
    "- convert input number to String\n",
    "- find the middle position (if it is a odd number, then get the quotient after divide by 2)\n",
    "- compare character at position 0 and -1, character at position 1 and -2, and so on...\n",
    "- at any time if the 2 characters doesn't match, return False immediately without further processing\n",
    "- if the entire string is compared and alll characters to be compared matches, returns True\n",
    "\n",
    "Logic of main program:\n",
    "- loop from 998001 (999*999) in decreasing order till 10001 (since 100*100 is not palindrome). Assign value num_product:\n",
    "- check if the num_product is palindrome by calling isPalindrome function\n",
    "- if it is palindrome, then check if it can be divisible by x = 999, 998, 997 and so on..\n",
    "- if it can be fully divisible by x, check if the other divisor is a 3 digit\n",
    "- if all conditions matches, then we got our largest 3-digit divisors and the palindrome.\n",
    "\n",
    "> **note:** Initially I use another method of 2 For loops (decreasing from 999), however answer is wrong coz it hits 995 * 583 = 580085 first. After much verification, I found that 906609 = 993*913 is a larger palindrome, hence rewrite my solution."
   ]
  },
  {
   "cell_type": "markdown",
   "metadata": {},
   "source": [
    "\n",
    "### Challenge 2: Summation of Primes\n",
    "The sum of the primes below 10 is 2 + 3 + 5 + 7 = 17. Find the sum of all the primes below 2,000. Afterward, write a brief explanation walking through your code's logic in markdown."
   ]
  },
  {
   "cell_type": "code",
   "execution_count": 53,
   "metadata": {},
   "outputs": [
    {
     "name": "stdout",
     "output_type": "stream",
     "text": [
      "The sum of all prime numbers below 2000 is 277050 \n"
     ]
    }
   ],
   "source": [
    "def all_primes(cap_limit):\n",
    "    set_numbers = list(range(2,cap_limit))\n",
    "    list_primes = []\n",
    "    \n",
    "    while len(set_numbers) > 0:\n",
    "        prime = set_numbers[0]\n",
    "        loop_limit = (cap_limit // prime )+ 1\n",
    "        # prime numbers start from 2\n",
    "        list_primes.append(prime) \n",
    "        for x in range(1, loop_limit):\n",
    "            multiples = prime * x\n",
    "            try:\n",
    "                set_numbers.remove(multiples)\n",
    "            except ValueError as target:\n",
    "                pass\n",
    "             \n",
    "    return list_primes\n",
    "\n",
    "\n",
    "def sum_primes(list1):    \n",
    "    total = 0\n",
    "    for i in range(len(list1)):\n",
    "        total = total + list1[i]\n",
    "    return total\n",
    "        \n",
    "\n",
    "print(\"The sum of all prime numbers below 2000 is {} \".format(sum_primes(all_primes(2000))))"
   ]
  },
  {
   "cell_type": "markdown",
   "metadata": {},
   "source": [
    "### Explanation of Prime Numers Logic\n",
    "Reference youtube on the logic of finding Prime Numbers:\n",
    "https://www.youtube.com/watch?time_continue=173&v=FBbHzy7v2Kg\n",
    "\n",
    "\n",
    "2 functions are defined:\n",
    "- **all_primes** will return list of prime numbers below a given numerical cap_limit \n",
    "- **sum_primes** will return the sum of a given list of numbers.\n",
    "\n",
    "Logic of function **all_primes**:\n",
    "- create a list of running numbers, `set_numbers`, starting from 2 and ending with (cap_limit - 1), as per requirement\n",
    "- create a empty list `list_primes` to hold prime numbers\n",
    "- Loop while `set_numbers` is not empty:\n",
    "    + get the first number, prime, from `set_numbers`. Insert into `list_primes`. (for 1st cycle, value is 2)\n",
    "    + get the loop_limit of second loop, which is quotient of cap_limit divide by 2, increment by 1 as For loop is not inclusive\n",
    "    + the second loop will remove all the multiples of prime from `set_numbers`\n",
    "    + try-except is written as the remove method will throw ValueError if value not in list\n",
    "\n",
    "Logic of function **sum_primes**:\n",
    "- create a For loop to loop through all the numbers in the list and sum them up\n",
    "\n",
    "Logic of main program:\n",
    "- print the sum of primes which are below 2000"
   ]
  },
  {
   "cell_type": "markdown",
   "metadata": {},
   "source": [
    "### Challenge 3: Multiples of 3 and 5\n",
    "If we list all of the natural numbers below 10 that are multiples of 3 or 5, we get 3, 5, 6, and 9. The sum of these multiples is 23. Find the sum of all the multiples of 3 and 5 below 1,000. Afterward, write a brief explanation walking through your code's logic in markdown."
   ]
  },
  {
   "cell_type": "code",
   "execution_count": 63,
   "metadata": {},
   "outputs": [
    {
     "name": "stdout",
     "output_type": "stream",
     "text": [
      "Sum of natural numbers which are multiples of 3 or 5 is 233168.\n"
     ]
    }
   ],
   "source": [
    "def multiples_3_5(cap_limit):\n",
    "    # set is used as it is unique\n",
    "    natural_numbers = set()\n",
    "    \n",
    "    limit_3 = (cap_limit // 3) + 1\n",
    "    for x in range(1,limit_3):\n",
    "        multi_3 = 3 * x\n",
    "        if (multi_3 < cap_limit):\n",
    "            natural_numbers.add(multi_3)\n",
    "    \n",
    "    limit_5 = (cap_limit // 5) + 1\n",
    "    for y in range(1,limit_5):\n",
    "        multi_5 = 5 * y\n",
    "        if (multi_5 < cap_limit):\n",
    "            natural_numbers.add(multi_5) \n",
    "    return natural_numbers\n",
    "\n",
    "def sum_numbers(set1):\n",
    "    total = 0\n",
    "    for i in range(len(set1)):\n",
    "        total = total + set1.pop()\n",
    "    return total\n",
    "\n",
    "print(\"Sum of natural numbers which are multiples of 3 or 5 is {}.\".format(sum_numbers(multiples_3_5(1000))))"
   ]
  },
  {
   "cell_type": "markdown",
   "metadata": {},
   "source": [
    "### Explanation of Multiples of 3 and 5 Logic\n",
    "\n",
    "\n",
    "2 functions are defined:\n",
    "- **multiples_3_5** will return set of multiples of 3 and 5 below a given numerical cap_limit \n",
    "- **sum_numbers** will return the sum of a given set of numbers.\n",
    "\n",
    "Logic of function **multiples_3_5**:\n",
    "- create a empty set. Set is used as it is unique, so duplicate values would not be added to the set\n",
    "- use for loops to add the values of multiples of 3 and multiples of 5 to the set\n",
    "\n",
    "Logic of function **sum_numbers**:\n",
    "- create a For loop to sum up all elements in the set.\n",
    "\n",
    "Logic of main program:\n",
    "- print the sum of all natural numbers which are either multiple of 3 or 5"
   ]
  },
  {
   "cell_type": "markdown",
   "metadata": {},
   "source": [
    "### Challenge 4: String Compressor\n",
    "Implement a method to perform basic string compression using the counts of repeated characters. (This is called run-length encoding.) For example, the string \"aabcccccaaa\" would become a2b1c5a3. If the “compressed” string would not become smaller than the original string, your method should return the original string. You can assume the string has only uppercase and lowercase letters (a–z). Specify whether your solution is case sensitive or case insensitive and what you would need to change to make it the other. Afterward, write a brief explanation walking through your code's logic in markdown."
   ]
  },
  {
   "cell_type": "code",
   "execution_count": null,
   "metadata": {
    "collapsed": true
   },
   "outputs": [],
   "source": [
    "def checkString"
   ]
  },
  {
   "cell_type": "code",
   "execution_count": null,
   "metadata": {
    "collapsed": true
   },
   "outputs": [],
   "source": [
    "### Explanation of String Compressor Logic\n",
    "\n",
    "\n",
    "2 functions are defined:\n",
    "- **multiples_3_5** will return set of multiples of 3 and 5 below a given numerical cap_limit \n",
    "- **sum_numbers** will return the sum of a given set of numbers.\n",
    "\n",
    "Logic of function **multiples_3_5**:\n",
    "- create a empty set. Set is used as it is unique, so duplicate values would not be added to the set\n",
    "- use for loops to add the values of multiples of 3 and multiples of 5 to the set\n",
    "\n",
    "Logic of function **sum_numbers**:\n",
    "- create a For loop to sum up all elements in the set.\n",
    "\n",
    "Logic of main program:\n",
    "- print the sum of all natur"
   ]
  },
  {
   "cell_type": "markdown",
   "metadata": {},
   "source": [
    "### *BONUS* Challenge: FizzBuzz\n",
    "Write a program that prints all of the numbers from 1 to 100. For multiples of 3, instead of the number, print \"Fizz;\" for multiples of 5, print \"Buzz.\" For numbers that are multiples of both 3 and 5, print \"FizzBuzz.\" Afterward, write a brief explanation walking through your code's logic in markdown."
   ]
  },
  {
   "cell_type": "code",
   "execution_count": 5,
   "metadata": {},
   "outputs": [
    {
     "name": "stdout",
     "output_type": "stream",
     "text": [
      "[1, 2, 'Fizz', 4, 'Buzz', 'Fizz', 7, 8, 'Fizz', 'Buzz', 11, 'Fizz', 13, 14, 'FizzBuzz', 16, 17, 'Fizz', 19, 'Buzz', 'Fizz', 22, 23, 'Fizz', 'Buzz', 26, 'Fizz', 28, 29, 'FizzBuzz', 31, 32, 'Fizz', 34, 'Buzz', 'Fizz', 37, 38, 'Fizz', 'Buzz', 41, 'Fizz', 43, 44, 'FizzBuzz', 46, 47, 'Fizz', 49, 'Buzz', 'Fizz', 52, 53, 'Fizz', 'Buzz', 56, 'Fizz', 58, 59, 'FizzBuzz', 61, 62, 'Fizz', 64, 'Buzz', 'Fizz', 67, 68, 'Fizz', 'Buzz', 71, 'Fizz', 73, 74, 'FizzBuzz', 76, 77, 'Fizz', 79, 'Buzz', 'Fizz', 82, 83, 'Fizz', 'Buzz', 86, 'Fizz', 88, 89, 'FizzBuzz', 91, 92, 'Fizz', 94, 'Buzz', 'Fizz', 97, 98, 'Fizz', 'Buzz']\n"
     ]
    }
   ],
   "source": [
    "set_numbers = list(range(1,101))\n",
    "list_multi3 = list(range(3,101,3))\n",
    "list_multi5 = list(range(5,101,5))\n",
    "for x in set_multi5:\n",
    "    index_x = x - 1\n",
    "    set_numbers[index_x] = \"Buzz\"\n",
    "    \n",
    "for y in set_multi3:\n",
    "    index_y = y - 1\n",
    "    if y % 5 == 0:\n",
    "        set_numbers[index_y] = \"FizzBuzz\"\n",
    "    else:\n",
    "        set_numbers[index_y] = \"Fizz\"\n",
    "    \n",
    "    \n",
    "print(set_numbers)"
   ]
  },
  {
   "cell_type": "markdown",
   "metadata": {},
   "source": [
    "### Explanation of FizzBuzz Logic\n",
    "\n",
    "Define 3 lists, one is for list of numbers from 1 to 100, another is for list of multiples of 3 below 100, and the last is for multiples of 5 not exceeding 100.\n",
    "\n",
    "Create a For loop, for multiples of 5, update the corresponding index of list (reduce by 1 coz index starts from 0) to value \"Buzz\".\n",
    "Repeat similar For loop logic for multiples of 3 but with value \"Fizz\", this time have an additional check that if the number is exactly divisible 5 (remainder 0), then update to \"FizzBuzz\""
   ]
  }
 ],
 "metadata": {
  "anaconda-cloud": {},
  "kernelspec": {
   "display_name": "Python 3",
   "language": "python",
   "name": "python3"
  },
  "language_info": {
   "codemirror_mode": {
    "name": "ipython",
    "version": 3
   },
   "file_extension": ".py",
   "mimetype": "text/x-python",
   "name": "python",
   "nbconvert_exporter": "python",
   "pygments_lexer": "ipython3",
   "version": "3.6.2"
  }
 },
 "nbformat": 4,
 "nbformat_minor": 2
}
